{
 "cells": [
  {
   "cell_type": "code",
   "execution_count": 1,
   "id": "570c4b00",
   "metadata": {
    "pycharm": {
     "name": "#%%\n"
    }
   },
   "outputs": [],
   "source": [
    "import os\n",
    "import math"
   ]
  },
  {
   "cell_type": "code",
   "execution_count": 2,
   "id": "a234989e",
   "metadata": {
    "pycharm": {
     "name": "#%%\n"
    }
   },
   "outputs": [],
   "source": [
    "test_dssp_in = './inputs/dssp'\n",
    "if not os.path.exists(test_dssp_in):\n",
    "    os.makedirs(test_dssp_in)    \n",
    "      \n",
    "test_dssp_out = './outputs/dssp'\n",
    "if not os.path.exists(test_dssp_out):\n",
    "    os.makedirs(test_dssp_out)\n",
    "\n",
    "test_pdb2rr_dir = './outputs/pdb2rr'\n",
    "if not os.path.exists(test_pdb2rr_dir):\n",
    "    os.makedirs(test_pdb2rr_dir)    \n",
    "    "
   ]
  },
  {
   "cell_type": "code",
   "execution_count": 3,
   "id": "caeaf195",
   "metadata": {
    "pycharm": {
     "name": "#%%\n"
    }
   },
   "outputs": [],
   "source": [
    "def write_dssp(infile, outfile, seq_id):\n",
    "    ffeat = open('./outputs/{}/dssp/{}.dssp'.format(outfile, seq_id), 'w')\n",
    "    ffeat.write('res\\taa\\tss\\tsa\\ttco\\tkpa\\talp\\tphi\\tpsi\\tx\\ty\\tz\\n')  \n",
    "    fi = open('./inputs/dssp/{}/{}.dssp'.format(infile, seq_id), 'r')\n",
    "    filines = fi.readlines()\n",
    "    \n",
    "    cntLn = 0 ##line counter##\n",
    "    residue = '#'\n",
    "    for line in filines:\n",
    "            if(cntLn<1):  \n",
    "                    if (line[2:(2+len(residue))] == residue):  \n",
    "                            cntLn+=1\n",
    "                            continue\n",
    "            if(cntLn>0):  \n",
    "                    if (len(line)>0):   \n",
    "                            ssSeq = line[16:(16+1)]  \n",
    "                            aaSeq = line[13]    \n",
    "                            saSeq = line[35:(35+3)]   \n",
    "                            tcoSeq = line[85:(85+6)]\n",
    "                            kpaSeq = line[91:(91+6)]\n",
    "                            alpSeq = line[97:(97+6)]\n",
    "                            phiSeq = line[103:(103+6)]\n",
    "                            psiSeq = line[109:(109+6)]\n",
    "                            xSeq = line[115:(115+7)]\n",
    "                            ySeq = line[122:(122+7)]\n",
    "                            zSeq = line[129:(129+7)]  \n",
    "                            if(ssSeq.strip() == ''): \n",
    "                                    ssSeq = 'C'\n",
    "                            if(line[5:10].strip() != \"\"):\n",
    "                                    resNum = int(line[5:10])  \n",
    "                                    ffeat.write(str(resNum) + '\\t' + aaSeq + '\\t' + ssSeq + '\\t' + saSeq + '\\t' + tcoSeq + '\\t' + kpaSeq + '\\t' + alpSeq + '\\t' + phiSeq + '\\t' + psiSeq + '\\t' + xSeq + '\\t' + ySeq + '\\t' + zSeq + '\\n')     \n",
    "\n",
    "    fi.close()\n",
    "    ffeat.close()"
   ]
  },
  {
   "cell_type": "code",
   "execution_count": 4,
   "id": "78fe33a1",
   "metadata": {
    "pycharm": {
     "name": "#%%\n"
    }
   },
   "outputs": [],
   "source": [
    "!chmod +x ./inputs/mkdssp/mkdssp"
   ]
  },
  {
   "cell_type": "code",
   "execution_count": 5,
   "id": "9bbacf68",
   "metadata": {
    "pycharm": {
     "name": "#%%\n"
    }
   },
   "outputs": [],
   "source": [
    "def read_fasta_file(filepath):\n",
    "    with open(filepath, \"r\") as file:  \n",
    "        lines = [line.strip() for line in file]\n",
    "        sequences_dict = {lines[i][1:]: lines[i+1] for i in range(0, len(lines), 2)}\n",
    "    return sequences_dict"
   ]
  },
  {
   "cell_type": "code",
   "execution_count": 6,
   "id": "3917e2b8",
   "metadata": {
    "pycharm": {
     "name": "#%%\n"
    }
   },
   "outputs": [],
   "source": [
    "test_sequences = read_fasta_file(\"./inputs/test_sequences.txt\")"
   ]
  },
  {
   "cell_type": "code",
   "execution_count": 7,
   "id": "553381fc",
   "metadata": {
    "pycharm": {
     "name": "#%%\n"
    }
   },
   "outputs": [],
   "source": [
    "for test_id in test_sequences:\n",
    "    os.system(\"./inputs/mkdssp/mkdssp -i ./inputs/pdb/{}.pdb -o ./inputs/dssp/{}.dssp\".format(test_id, test_id))\n",
    "    write_dssp(\"test\", \"test\", test_id)"
   ]
  },
  {
   "cell_type": "code",
   "execution_count": null,
   "id": "ea8d046e",
   "metadata": {
    "pycharm": {
     "name": "#%%\n"
    }
   },
   "outputs": [],
   "source": [
    "th = float(8)\n",
    "\n",
    "def get_distance(x1, x2, x3, y1, y2, y3):\n",
    "    \n",
    "    return math.sqrt((x1 - y1) ** 2 + (x2 - y2) ** 2 + (x3 - y3) ** 2)"
   ]
  },
  {
   "cell_type": "code",
   "execution_count": null,
   "id": "6397ddcc",
   "metadata": {
    "pycharm": {
     "name": "#%%\n"
    }
   },
   "outputs": [],
   "source": [
    "def cal_orientation(pdbfile, outfile):\n",
    "    fpdb = open(pdbfile, 'r') \n",
    "    lines = fpdb.readlines()\n",
    "    \n",
    "    pos = []                      \n",
    "    for atomline in lines:\n",
    "        if atomline[:4] == 'ATOM':\n",
    "            pos.append(atomline)\n",
    "    fpdb.close()\n",
    "    \n",
    "    \n",
    "    Ca_info = {}\n",
    "    Cb_info = {}\n",
    "    for line in pos:\n",
    "            if(line[:4] == \"ATOM\"):\n",
    "                    res_no = 0\n",
    "                    if(line[12:16].strip() == \"CA\"):\n",
    "                            x = float(line[30:38].strip())\n",
    "                            y = float(line[38:46].strip())\n",
    "                            z = float(line[46:54].strip())\n",
    "                            Ca = [x, y, z]\n",
    "                            res_no = int(line[22:26].strip())\n",
    "                            Ca_info[res_no] = Ca\n",
    "\n",
    "                    if(line[12:16].strip() == \"CB\"):\n",
    "                            x = float(line[30:38].strip())\n",
    "                            y = float(line[38:46].strip())\n",
    "                            z = float(line[46:54].strip())\n",
    "                            Cb = [x, y, z]\n",
    "                            res_no = int(line[22:26].strip())\n",
    "                            Cb_info[res_no] = Cb\n",
    "# 通过遍历蛋白质结构中的残基编号，计算残基之间的CB原子（或在没有CB原子时的CA原子\n",
    "#之间的距离，并将满足一定条件的距离结果写入输出文件中。                            \n",
    "                            \n",
    "                            \n",
    "    fcb = open(outfile, \"w\")\n",
    "    for res_no in (Ca_info):\n",
    "            for res_no2 in (Ca_info):\n",
    "                    if(res_no2 < (res_no + 1)):\n",
    "                            continue\n",
    "                    if ((res_no not in Cb_info) and (res_no2 not in Cb_info)):\n",
    "                            cb_cb_distance = get_distance(Ca_info[res_no][0], Ca_info[res_no][1],  Ca_info[res_no][2], Ca_info[res_no2][0], Ca_info[res_no2][1], Ca_info[res_no2][2])\n",
    "                    elif((res_no in Cb_info) and (res_no2 not in Cb_info)):\n",
    "                            cb_cb_distance = get_distance(Cb_info[res_no][0], Cb_info[res_no][1],  Cb_info[res_no][2], Ca_info[res_no2][0], Ca_info[res_no2][1], Ca_info[res_no2][2])\n",
    "\n",
    "                    elif((res_no not in Cb_info) and (res_no2 in Cb_info)):\n",
    "                            cb_cb_distance = get_distance(Ca_info[res_no][0], Ca_info[res_no][1],  Ca_info[res_no][2], Cb_info[res_no2][0], Cb_info[res_no2][1], Cb_info[res_no2][2])\n",
    "                    else:\n",
    "                            cb_cb_distance = get_distance(Cb_info[res_no][0], Cb_info[res_no][1],  Cb_info[res_no][2], Cb_info[res_no2][0], Cb_info[res_no2][1], Cb_info[res_no2][2])\n",
    "                    if(cb_cb_distance > th):\n",
    "                            continue\n",
    "\n",
    "                    fcb.write(str(res_no) + ' ' + str(res_no2) + ' 0 8 ' + '%.1f'%cb_cb_distance +\"\\n\")\n",
    "    fcb.close() "
   ]
  },
  {
   "cell_type": "code",
   "execution_count": null,
   "id": "2f847c67",
   "metadata": {
    "pycharm": {
     "name": "#%%\n"
    }
   },
   "outputs": [],
   "source": [
    "for test_id in test_sequences:\n",
    "    cal_orientation('./inputs/pdb/{}.pdb'.format(test_id), './outputs/pdb2rr/{}.pdb2rr'.format(test_id))"
   ]
  },
  {
   "cell_type": "code",
   "execution_count": null,
   "id": "13a9edfc",
   "metadata": {
    "pycharm": {
     "name": "#%%\n"
    }
   },
   "outputs": [],
   "source": []
  }
 ],
 "metadata": {
  "kernelspec": {
   "display_name": "Python 3 (ipykernel)",
   "language": "python",
   "name": "python3"
  },
  "language_info": {
   "codemirror_mode": {
    "name": "ipython",
    "version": 3
   },
   "file_extension": ".py",
   "mimetype": "text/x-python",
   "name": "python",
   "nbconvert_exporter": "python",
   "pygments_lexer": "ipython3",
   "version": "3.8.19"
  },
  "toc": {
   "base_numbering": 1,
   "nav_menu": {},
   "number_sections": true,
   "sideBar": true,
   "skip_h1_title": false,
   "title_cell": "Table of Contents",
   "title_sidebar": "Contents",
   "toc_cell": false,
   "toc_position": {},
   "toc_section_display": true,
   "toc_window_display": false
  }
 },
 "nbformat": 4,
 "nbformat_minor": 5
}