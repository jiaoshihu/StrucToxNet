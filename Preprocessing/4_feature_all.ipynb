{
 "cells": [
  {
   "cell_type": "code",
   "execution_count": 1,
   "id": "d2c2899d",
   "metadata": {
    "pycharm": {
     "name": "#%%\n"
    }
   },
   "outputs": [],
   "source": [
    "import pickle\n",
    "import pandas as pd\n",
    "import torch\n",
    "import numpy as np\n",
    "import torch_cluster\n",
    "import torch_geometric\n",
    "import pandas as pd\n",
    "from Bio.PDB import PDBParser"
   ]
  },
  {
   "cell_type": "code",
   "execution_count": 2,
   "id": "244b8957",
   "metadata": {
    "pycharm": {
     "name": "#%%\n"
    }
   },
   "outputs": [],
   "source": [
    "_amino_acids = lambda x: {'ALA': 0, 'ARG': 1, 'ASN': 2, 'ASP': 3, 'CYS': 4, 'GLU': 5, 'GLN': 6, 'GLY': 7, 'HIS': 8, 'ILE': 9, 'LEU': 10, 'LYS': 11, 'MET': 12, 'PHE': 13, 'PRO': 14,\n",
    "                          'SER': 15, 'THR': 16, 'TRP': 17, 'TYR': 18, 'VAL': 19, 'LIG': 20}.get(x, 21)  # 'LIG' for small-molecule ligand\n",
    "RESTYPE_3to1 = lambda x: {'ALA': 'A', 'ARG': 'R', 'ASN': 'N', 'ASP': 'D', 'CYS': 'C', 'GLN': 'Q', 'GLU': 'E', 'GLY': 'G', 'HIS': 'H', 'ILE': 'I', 'LEU': 'L', 'LYS': 'K',\n",
    "                          'MET': 'M', 'PHE': 'F', 'PRO': 'P', 'SER': 'S', 'THR': 'T', 'TRP': 'W', 'TYR': 'Y', 'VAL': 'V'}.get(x, '<unk>')  # strange residues (e.g., CA, BET)\n",
    "RESTYPE_3to1_PROTTRANS = lambda x: {'ALA': 'A', 'ARG': 'R', 'ASN': 'N', 'ASP': 'D', 'CYS': 'C', 'GLN': 'Q', 'GLU': 'E', 'GLY': 'G', 'HIS': 'H', 'ILE': 'I', 'LEU': 'L', 'LYS': 'K',\n",
    "                                    'MET': 'M', 'PHE': 'F', 'PRO': 'P', 'SER': 'S', 'THR': 'T', 'TRP': 'W', 'TYR': 'Y', 'VAL': 'V'}.get(x, 'X')  # strange residues (e.g., CA, BET)"
   ]
  },
  {
   "cell_type": "code",
   "execution_count": 3,
   "id": "7e0b9644",
   "metadata": {
    "pycharm": {
     "name": "#%%\n"
    }
   },
   "outputs": [],
   "source": [
    "def read_fasta_file(filepath):\n",
    "    with open(filepath, \"r\") as file:\n",
    "        lines = [line.strip() for line in file]\n",
    "        sequences_dict = {lines[i][1:]: lines[i+1] for i in range(0, len(lines), 2)}\n",
    "    return sequences_dict"
   ]
  },
  {
   "cell_type": "code",
   "execution_count": 4,
   "id": "051cfbfe",
   "metadata": {
    "pycharm": {
     "name": "#%%\n"
    }
   },
   "outputs": [],
   "source": [
    "def extract_ca_coordinates(file_path):\n",
    "    parser = PDBParser(PERMISSIVE=1)\n",
    "    structure = parser.get_structure('structure', file_path)\n",
    "    ca_coords = []\n",
    "    for model in structure:\n",
    "        for chain in model:\n",
    "            for residue in chain:\n",
    "                if 'CA' in residue:\n",
    "                    ca_atom = residue['CA']\n",
    "                    resname = residue.get_resname()\n",
    "                    ca_coords.append([resname, ca_atom.coord[0], ca_atom.coord[1], ca_atom.coord[2]])\n",
    "    return pd.DataFrame(ca_coords, columns=['resname', 'x', 'y', 'z'])"
   ]
  },
  {
   "cell_type": "code",
   "execution_count": 5,
   "id": "c20f7b16",
   "metadata": {
    "pycharm": {
     "name": "#%%\n"
    }
   },
   "outputs": [],
   "source": [
    "def _normalize(tensor, dim=-1):\n",
    "    return torch.nan_to_num(torch.div(tensor, torch.norm(tensor, dim=dim, keepdim=True)))"
   ]
  },
  {
   "cell_type": "code",
   "execution_count": 6,
   "id": "9f613938",
   "metadata": {
    "pycharm": {
     "name": "#%%\n"
    }
   },
   "outputs": [],
   "source": [
    "def _rbf(D, D_min=0., D_max=20., D_count=16, device='cpu'):\n",
    "    D_mu = torch.linspace(D_min, D_max, D_count, device=device) #在D_min和D_max之间取D_count个值，包括首尾\n",
    "    D_mu = D_mu.view([1, -1]) #reshape成[1,D_count]\n",
    "    D_sigma = (D_max - D_min) / D_count\n",
    "    D_expand = torch.unsqueeze(D, -1) #[edge_index.shape[1], 1],升维\n",
    "\n",
    "    RBF = torch.exp(-((D_expand - D_mu) / D_sigma) ** 2) #[edge_index.shape[1], D_count],就是把每一个距离用D_count这么个维度的向量表示\n",
    "    return RBF"
   ]
  },
  {
   "cell_type": "code",
   "execution_count": 7,
   "id": "95423887",
   "metadata": {
    "pycharm": {
     "name": "#%%\n"
    }
   },
   "outputs": [],
   "source": [
    "def _edge_features(coords, edge_index, D_max=4.5, num_rbf=16, device='cpu'):\n",
    "    E_vectors = coords[edge_index[0]] - coords[edge_index[1]] #对应两个节点的坐标相减，[edge_index.shape[1], 3]\n",
    "    rbf = _rbf(E_vectors.norm(dim=-1), D_max=D_max, D_count=num_rbf, device=device)\n",
    "    edge_s = rbf\n",
    "    edge_v = _normalize(E_vectors).unsqueeze(-2) #先对E_vectors先做norm,再在中间加个维度1，[edge_index.shape[1], 1, 3]\n",
    "    edge_s, edge_v = map(torch.nan_to_num, (edge_s, edge_v)) #  维度不变化，前者[edge_index.shape[1], D_count]，后者[edge_index.shape[1], 1, 3]\n",
    "    return edge_s, edge_v"
   ]
  },
  {
   "cell_type": "code",
   "execution_count": 8,
   "id": "b7578bfa",
   "metadata": {
    "pycharm": {
     "name": "#%%\n"
    }
   },
   "outputs": [],
   "source": [
    "def cal_geo_feature(df, edge_cutoff=8, num_rbf=16, connection='rball',level='residue'):\n",
    "    \n",
    "    coords = torch.as_tensor(df[['x', 'y', 'z']].to_numpy(), dtype=torch.float32)\n",
    "    if level == 'residue':\n",
    "        nodes = torch.as_tensor(list(map(_amino_acids, df.resname)), dtype=torch.long) #把残基映射成数字\n",
    "    else:\n",
    "        nodes = torch.as_tensor(list(map(_element_mapping, df.element)), dtype=torch.long)\n",
    "\n",
    "    # some proteins are added by HIS or miss some residues\n",
    "    if connection == 'knn':\n",
    "        edge_index = torch_cluster.knn_graph(coords, k=10) \n",
    "    else:\n",
    "        edge_index = torch_cluster.radius_graph(coords, edge_cutoff) \n",
    "    #\n",
    "\n",
    "    edge_s, edge_v = _edge_features(coords, edge_index, D_max=edge_cutoff, num_rbf=num_rbf)  # use RBF to represent distance\n",
    "    \n",
    "    return (coords, nodes, edge_index, edge_s, edge_v)"
   ]
  },
  {
   "cell_type": "code",
   "execution_count": null,
   "outputs": [],
   "source": [
    "def get_geo_feature(seqencefile, featurefile, pdbfile, plmfile):\n",
    "    sequences = read_fasta_file(seqencefile)\n",
    "    \n",
    "    erro_list = []\n",
    "    with open(featurefile, 'rb') as file:\n",
    "        feature_data = pickle.load(file)\n",
    "\n",
    "    with open(plmfile, 'rb') as plmf:\n",
    "        plm_data = pickle.load(plmf)\n",
    "     \n",
    "    peptide_names = feature_data.keys()\n",
    "    df_feature = {}\n",
    "    \n",
    "    for name in peptide_names:\n",
    "        df = extract_ca_coordinates(pdbfile+name+'.pdb')\n",
    "        data = cal_geo_feature(df) \n",
    "        seq = ''.join([RESTYPE_3to1_PROTTRANS(i) for i in list(df['resname'])])\n",
    "        \n",
    "        if seq != sequences[name]:\n",
    "            erro_list.append(sequences[name])\n",
    "            \n",
    "        hand_feature = torch.from_numpy(np.array(feature_data[name])).float()\n",
    "        plm_data_float = torch.from_numpy(plm_data[name]).float()  # Assuming plm_data[name] is already a tensor\n",
    "        node_feature = torch.cat((hand_feature, plm_data_float), dim=1)    \n",
    "\n",
    "        data = data + (node_feature,)\n",
    "        df_feature[name] = data\n",
    "        \n",
    "        \n",
    "    return df_feature, erro_list"
   ],
   "metadata": {
    "collapsed": false,
    "pycharm": {
     "name": "#%%\n"
    }
   }
  },
  {
   "cell_type": "code",
   "execution_count": null,
   "outputs": [],
   "source": [
    "\n",
    "test_data, erro_test = get_geo_feature('./inputs/test_sequences.txt', './outputs/test_features.pkl', './inputs/pdb/', './outputs/test_plm_representations.pkl')"
   ],
   "metadata": {
    "collapsed": false,
    "pycharm": {
     "name": "#%%\n"
    }
   }
  },
  {
   "cell_type": "code",
   "execution_count": null,
   "outputs": [],
   "source": [
    "with open('./outputs/combined_test.pkl', 'wb') as f:\n",
    "    pickle.dump(test_data, f)"
   ],
   "metadata": {
    "collapsed": false,
    "pycharm": {
     "name": "#%%\n"
    }
   }
  },
  {
   "cell_type": "code",
   "execution_count": null,
   "id": "9ea0246b",
   "metadata": {
    "pycharm": {
     "name": "#%%\n"
    }
   },
   "outputs": [],
   "source": []
  }
 ],
 "metadata": {
  "kernelspec": {
   "display_name": "Python 3 (ipykernel)",
   "language": "python",
   "name": "python3"
  },
  "language_info": {
   "codemirror_mode": {
    "name": "ipython",
    "version": 3
   },
   "file_extension": ".py",
   "mimetype": "text/x-python",
   "name": "python",
   "nbconvert_exporter": "python",
   "pygments_lexer": "ipython3",
   "version": "3.8.19"
  },
  "toc": {
   "base_numbering": 1,
   "nav_menu": {},
   "number_sections": true,
   "sideBar": true,
   "skip_h1_title": false,
   "title_cell": "Table of Contents",
   "title_sidebar": "Contents",
   "toc_cell": false,
   "toc_position": {},
   "toc_section_display": true,
   "toc_window_display": false
  }
 },
 "nbformat": 4,
 "nbformat_minor": 5
}