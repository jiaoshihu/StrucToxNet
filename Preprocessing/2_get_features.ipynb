{
 "cells": [
  {
   "cell_type": "code",
   "execution_count": 1,
   "id": "6ef2c0e8",
   "metadata": {
    "pycharm": {
     "name": "#%%\n"
    }
   },
   "outputs": [],
   "source": [
    "from feature_script import feature_1\n",
    "from feature_script import feature_2\n",
    "from feature_script import feature_3\n",
    "from feature_script import feature_4\n",
    "from feature_script import feature_5\n",
    "from feature_script import feature_6\n",
    "import pickle"
   ]
  },
  {
   "cell_type": "code",
   "execution_count": 2,
   "id": "4007c747",
   "metadata": {
    "pycharm": {
     "name": "#%%\n"
    }
   },
   "outputs": [],
   "source": [
    "def read_fasta_file(filepath):\n",
    "    with open(filepath, \"r\") as file:  \n",
    "        lines = [line.strip() for line in file]\n",
    "        sequences_dict = {lines[i][1:]: lines[i+1] for i in range(0, len(lines), 2)}\n",
    "    return sequences_dict"
   ]
  },
  {
   "cell_type": "code",
   "execution_count": 3,
   "id": "a16aaa01",
   "metadata": {
    "pycharm": {
     "name": "#%%\n"
    }
   },
   "outputs": [],
   "source": [
    "test_sequences = read_fasta_file(\"./inputs/test_data_new.txt\")\n",
    "train_sequences = read_fasta_file(\"./inputs/train_data_new.txt\")"
   ]
  },
  {
   "cell_type": "code",
   "execution_count": 4,
   "id": "be4250da",
   "metadata": {
    "pycharm": {
     "name": "#%%\n"
    }
   },
   "outputs": [],
   "source": [
    "def compute_features(sequences, pdbpath, dssppath):\n",
    "    all_feature = {}\n",
    "    for seq_id in sequences:\n",
    "        features_1 = feature_1.comput_gem_fea(pdbpath, seq_id, sequences[seq_id])\n",
    "        features_2 = feature_2.comput_gem_fea(dssppath, seq_id, sequences[seq_id])\n",
    "        features_3 = feature_3.cal_dssp_feature(dssppath,seq_id)\n",
    "        features_4 = feature_4.cal_dssp_feature(dssppath, seq_id)\n",
    "        features_5 = feature_5.cal_dssp_feature(dssppath,  seq_id)\n",
    "        features_6 = feature_6.cal_dssp_feature(dssppath, seq_id)\n",
    "\n",
    "\n",
    "        lengths = [len(features_1), len(features_2), len(features_3), len(features_4), len(features_5), len(features_6)]\n",
    "        if len(set(lengths)) != 1:\n",
    "            raise ValueError(f\"Feature lengths do not match for test_id: {seq_id}. Lengths: {lengths}\")\n",
    "\n",
    "        combined_feature = []\n",
    "        for i in range(len(features_1)):\n",
    "            combined_element = features_1[i] + features_2[i] + features_3[i] + features_4[i] + features_5[i] + features_6[i]\n",
    "            combined_feature.append(combined_element)\n",
    "        all_feature[seq_id] = combined_feature\n",
    "        \n",
    "    return all_feature"
   ]
  },
  {
   "cell_type": "code",
   "execution_count": 5,
   "id": "32a68420",
   "metadata": {
    "pycharm": {
     "name": "#%%\n"
    }
   },
   "outputs": [],
   "source": [
    "test_features = compute_features(test_sequences, \"test\", \"test\")\n",
    "train_features = compute_features(train_sequences, \"train\", \"train\")"
   ]
  },
  {
   "cell_type": "code",
   "execution_count": 6,
   "id": "0091649f",
   "metadata": {
    "pycharm": {
     "name": "#%%\n"
    }
   },
   "outputs": [],
   "source": [
    "with open('./outputs/test_features.pkl', 'wb') as pklfile:\n",
    "    pickle.dump(test_features, pklfile)\n",
    "    \n",
    "with open('./outputs/train_features.pkl', 'wb') as pklfile:\n",
    "    pickle.dump(train_features, pklfile)"
   ]
  },
  {
   "cell_type": "code",
   "execution_count": 7,
   "id": "b33b5c86",
   "metadata": {
    "pycharm": {
     "name": "#%%\n"
    }
   },
   "outputs": [],
   "source": [
    "# import shutil\n",
    "# shutil.rmtree('./outputs/test')\n",
    "# shutil.rmtree('./outputs/train')\n",
    "# shutil.rmtree('./inputs/dssp')"
   ]
  },
  {
   "cell_type": "code",
   "execution_count": null,
   "id": "4e571e49",
   "metadata": {
    "pycharm": {
     "name": "#%%\n"
    }
   },
   "outputs": [],
   "source": []
  }
 ],
 "metadata": {
  "kernelspec": {
   "display_name": "Python 3 (ipykernel)",
   "language": "python",
   "name": "python3"
  },
  "language_info": {
   "codemirror_mode": {
    "name": "ipython",
    "version": 3
   },
   "file_extension": ".py",
   "mimetype": "text/x-python",
   "name": "python",
   "nbconvert_exporter": "python",
   "pygments_lexer": "ipython3",
   "version": "3.8.19"
  },
  "toc": {
   "base_numbering": 1,
   "nav_menu": {},
   "number_sections": true,
   "sideBar": true,
   "skip_h1_title": false,
   "title_cell": "Table of Contents",
   "title_sidebar": "Contents",
   "toc_cell": false,
   "toc_position": {},
   "toc_section_display": true,
   "toc_window_display": false
  }
 },
 "nbformat": 4,
 "nbformat_minor": 5
}
